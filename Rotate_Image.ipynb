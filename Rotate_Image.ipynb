{
 "cells": [
  {
   "cell_type": "markdown",
   "id": "99ab1b44-b748-4029-a344-57a7df92a321",
   "metadata": {},
   "source": [
    "# Optimized Image Rotation\n",
    "\n",
    "The `optimize_rotation` function accepts an image as its input and then determines the rotation angle that minimizes the padding around the image (i.e. forces the image into as much of an orthogonal orientation as possible). This is used primarily to rotate image data that are oriented in geographic coordinates (north is up) into a reference frame where the image is oriented in pixel coordinates (up is towards the top of the image data).\n",
    "\n"
   ]
  },
  {
   "cell_type": "code",
   "execution_count": 8,
   "id": "29dccb6b-8ed0-4334-b1fc-3d16a3594dd7",
   "metadata": {},
   "outputs": [],
   "source": [
    "from rotate import crop, optimize_rotation, rescale\n",
    "from PIL import Image\n",
    "import numpy as np"
   ]
  },
  {
   "cell_type": "code",
   "execution_count": 9,
   "id": "5b27118d-d9ee-41b9-9b36-e7b4fd671274",
   "metadata": {},
   "outputs": [],
   "source": [
    "in_file = \"test_image.tif\"\n",
    "out_file = \"rotated_image.tif\"\n",
    "zero_val = 2"
   ]
  },
  {
   "cell_type": "code",
   "execution_count": 10,
   "id": "1289a52c-19be-48d6-aab5-b127dc534968",
   "metadata": {},
   "outputs": [
    {
     "name": "stdout",
     "output_type": "stream",
     "text": [
      "Found optimum angle, 10.72.\n"
     ]
    }
   ],
   "source": [
    "im = crop(Image.open(in_file))\n",
    "optimized = optimize_rotation(im)\n",
    "optimized.save(out_file)"
   ]
  },
  {
   "cell_type": "code",
   "execution_count": 11,
   "id": "1f8d2ca8-4537-4a74-9871-8831de67b29b",
   "metadata": {},
   "outputs": [],
   "source": [
    "rescale(optimized,zero_val=zero_val).show()"
   ]
  }
 ],
 "metadata": {
  "kernelspec": {
   "display_name": "Python 3.8 (uhuru)",
   "language": "python",
   "name": "uhuru"
  },
  "language_info": {
   "codemirror_mode": {
    "name": "ipython",
    "version": 3
   },
   "file_extension": ".py",
   "mimetype": "text/x-python",
   "name": "python",
   "nbconvert_exporter": "python",
   "pygments_lexer": "ipython3",
   "version": "3.8.8"
  }
 },
 "nbformat": 4,
 "nbformat_minor": 5
}
